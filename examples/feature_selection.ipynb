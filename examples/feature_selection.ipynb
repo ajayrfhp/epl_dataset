{
 "cells": [
  {
   "cell_type": "markdown",
   "metadata": {},
   "source": [
    "- Identify best feature set from a subset of features\n",
    "- Strategies\n",
    "    - Iterate over all subsets. Expensive / brute force. \n",
    "    - Can we identify importance of a single feature ?"
   ]
  },
  {
   "cell_type": "markdown",
   "metadata": {},
   "source": []
  }
 ],
 "metadata": {
  "language_info": {
   "name": "python"
  },
  "orig_nbformat": 4
 },
 "nbformat": 4,
 "nbformat_minor": 2
}
